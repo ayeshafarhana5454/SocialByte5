{
 "cells": [
  {
   "cell_type": "code",
   "execution_count": null,
   "id": "7ae61207",
   "metadata": {},
   "outputs": [],
   "source": [
    "SELECT Company, \n",
    "       AVG(Salary) AS MedianSalary\n",
    "FROM (\n",
    "    SELECT Company, \n",
    "           Salary,\n",
    "           ROW_NUMBER() OVER (PARTITION BY Company ORDER BY Salary) AS RowAsc,\n",
    "           ROW_NUMBER() OVER (PARTITION BY Company ORDER BY Salary DESC) AS RowDesc\n",
    "    FROM Employee\n",
    ") Ranked\n",
    "WHERE RowAsc = RowDesc\n",
    "GROUP BY Company;\n"
   ]
  }
 ],
 "metadata": {
  "kernelspec": {
   "display_name": "Python 3 (ipykernel)",
   "language": "python",
   "name": "python3"
  },
  "language_info": {
   "codemirror_mode": {
    "name": "ipython",
    "version": 3
   },
   "file_extension": ".py",
   "mimetype": "text/x-python",
   "name": "python",
   "nbconvert_exporter": "python",
   "pygments_lexer": "ipython3",
   "version": "3.10.9"
  }
 },
 "nbformat": 4,
 "nbformat_minor": 5
}
